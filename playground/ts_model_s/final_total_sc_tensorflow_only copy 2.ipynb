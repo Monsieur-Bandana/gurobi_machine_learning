{
 "cells": [
  {
   "cell_type": "code",
   "execution_count": 6,
   "metadata": {},
   "outputs": [
    {
     "data": {
      "text/plain": [
       "3009"
      ]
     },
     "execution_count": 6,
     "metadata": {},
     "output_type": "execute_result"
    }
   ],
   "source": [
    "from keras import layers\n",
    "import tensorflow as tf\n",
    "import pandas as pd\n",
    "import numpy as np\n",
    "\n",
    "# Make numpy values easier to read.\n",
    "np.set_printoptions(precision=3, suppress=True)\n",
    "\n",
    "\n",
    "df = pd.read_csv('../csv_dateien/starcraftFinalcsvs/allRunsButOnlyTerran.csv')\n",
    "\n",
    "conditions = [\n",
    "    (df['fraction'] == \"Protoss\"), #1\n",
    "    (df['fraction'] == \"Terraner\"), #2\n",
    "    (df['fraction'] == \"Zerg\"), #3\n",
    "    (df['fraction'] == \"T\"), #2\n",
    "]\n",
    "\n",
    "values = [1, 2, 3, 2]\n",
    "\n",
    "df[\"fraction\"] = np.select(conditions, values)\n",
    "df=df[df[\"total_army\"]>0]\n",
    "df=df[df[\"fraction\"]==2]\n",
    "df=df[df[\"supply\"]<=200]\n",
    "\n",
    "dfPrepSample = df.drop(columns=[\"player\",\"winner\",\"replay_filename\", \"Unnamed: 0\", \"total_army_value\",\"fraction\"])\n",
    "len(dfPrepSample)\n"
   ]
  },
  {
   "cell_type": "code",
   "execution_count": 7,
   "metadata": {},
   "outputs": [
    {
     "data": {
      "text/plain": [
       "<bound method NDFrame.head of       resource_mining  total_army  supply  time\n",
       "1               28154        96.0   174.0   836\n",
       "6               40998       120.0   196.0   934\n",
       "15              13965        45.0   117.0   583\n",
       "19               9595        26.0    62.0   449\n",
       "24              38030        98.0   165.0  1102\n",
       "...               ...         ...     ...   ...\n",
       "5888             7364        17.0    69.0   381\n",
       "5889            25845        80.0   173.0   878\n",
       "5893            26351        70.0   157.0   795\n",
       "5894            24263        76.0   165.0   754\n",
       "5895            22655        40.0   125.0   726\n",
       "\n",
       "[3009 rows x 4 columns]>"
      ]
     },
     "execution_count": 7,
     "metadata": {},
     "output_type": "execute_result"
    }
   ],
   "source": [
    "# optimizer with scaling and lin reg\n",
    "\n",
    "import warnings\n",
    "import gurobipy as gp\n",
    "import matplotlib.pyplot as plt\n",
    "from sklearn import tree\n",
    "import seaborn as sns\n",
    "import sklearn\n",
    "from sklearn.model_selection import train_test_split\n",
    "from sklearn.preprocessing import StandardScaler\n",
    "from sklearn.linear_model import LinearRegression\n",
    "from sklearn.pipeline import make_pipeline\n",
    "from sklearn.metrics import r2_score\n",
    "from sklearn.compose import make_column_transformer\n",
    "import gurobipy_pandas as gppd\n",
    "from gurobi_ml import add_predictor_constr\n",
    "\n",
    "\n",
    "\n",
    "# ,player,total_workers,total_army_value,total_army,fraction,winner,replay_filename\n",
    "dfOpt = dfPrepSample.drop(columns=[\n",
    "                               \"total_workers\"])\n",
    "\n",
    "dfOpt.head\n"
   ]
  },
  {
   "cell_type": "code",
   "execution_count": 8,
   "metadata": {},
   "outputs": [
    {
     "data": {
      "text/plain": [
       "<bound method NDFrame.head of                          total_workers  resource_mining  supply  time\n",
       "1        <gurobi.Var total_workers[1]>            28154   174.0   836\n",
       "6        <gurobi.Var total_workers[6]>            40998   196.0   934\n",
       "15      <gurobi.Var total_workers[15]>            13965   117.0   583\n",
       "19      <gurobi.Var total_workers[19]>             9595    62.0   449\n",
       "24      <gurobi.Var total_workers[24]>            38030   165.0  1102\n",
       "...                                ...              ...     ...   ...\n",
       "5888  <gurobi.Var total_workers[5888]>             7364    69.0   381\n",
       "5889  <gurobi.Var total_workers[5889]>            25845   173.0   878\n",
       "5893  <gurobi.Var total_workers[5893]>            26351   157.0   795\n",
       "5894  <gurobi.Var total_workers[5894]>            24263   165.0   754\n",
       "5895  <gurobi.Var total_workers[5895]>            22655   125.0   726\n",
       "\n",
       "[3009 rows x 4 columns]>"
      ]
     },
     "execution_count": 8,
     "metadata": {},
     "output_type": "execute_result"
    }
   ],
   "source": [
    "\n",
    "\n",
    "# create variables\n",
    "# create Model\n",
    "\n",
    "m = gp.Model(\"Balance optimizer\")\n",
    "gppd.set_interactive()\n",
    "\n",
    "w = gppd.add_vars(m, pandas_obj=dfOpt,\n",
    "                  name=\"total_workers\")\n",
    "\n",
    "r = gppd.add_vars(m, pandas_obj=dfOpt,\n",
    "                  name=\"resource_mining\")\n",
    "s = gppd.add_vars(m, pandas_obj=dfOpt,\n",
    "                  name=\"supply\")\n",
    "\n",
    "a = gppd.add_vars(m, pandas_obj=dfOpt,\n",
    "                  name=\"total_army\")\n",
    "\n",
    "m.update()\n",
    "dfOpt = dfOpt.drop(columns=[\"total_army\"])\n",
    "\n",
    "feats = dfOpt\n",
    "feats = pd.concat([w, feats], axis=1)\n",
    "feats.head\n"
   ]
  },
  {
   "cell_type": "code",
   "execution_count": 9,
   "metadata": {},
   "outputs": [],
   "source": [
    "sc_model = tf.keras.models.load_model('sc_ts_model.h5')\n"
   ]
  },
  {
   "cell_type": "code",
   "execution_count": 10,
   "metadata": {},
   "outputs": [
    {
     "name": "stdout",
     "output_type": "stream",
     "text": [
      "Model for sequential1:\n",
      "610827 variables\n",
      "303909 constraints\n",
      "300900 general constraints\n",
      "Input has shape (3009, 4)\n",
      "Output has shape (3009, 1)\n",
      "\n",
      "--------------------------------------------------------------------------------\n",
      "Layer           Output Shape    Variables              Constraints              \n",
      "                                                Linear    Quadratic      General\n",
      "================================================================================\n",
      "dense0            (3009, 50)       300900       150450            0       150450 (relu)\n",
      "\n",
      "dense1            (3009, 30)       180540        90270            0        90270 (relu)\n",
      "\n",
      "dense2            (3009, 20)       120360        60180            0        60180 (relu)\n",
      "\n",
      "dense3             (3009, 1)            0         3009            0            0\n",
      "\n",
      "--------------------------------------------------------------------------------\n",
      "Set parameter NonConvex to value 2\n",
      "Gurobi Optimizer version 10.0.1 build v10.0.1rc0 (win64)\n",
      "\n",
      "CPU model: 11th Gen Intel(R) Core(TM) i7-11800H @ 2.30GHz, instruction set [SSE2|AVX|AVX2|AVX512]\n",
      "Thread count: 8 physical cores, 16 logical processors, using up to 16 threads\n",
      "\n",
      "Optimize a model with 309927 rows, 622863 columns and 7299834 nonzeros\n",
      "Model fingerprint: 0x423780d3\n",
      "Model has 300900 general constraints\n",
      "Variable types: 622863 continuous, 0 integer (0 binary)\n",
      "Coefficient statistics:\n",
      "  Matrix range     [1e-04, 3e+00]\n",
      "  Objective range  [1e+00, 1e+00]\n",
      "  Bounds range     [2e+01, 9e+04]\n",
      "  RHS range        [4e-03, 3e+00]\n",
      "Presolve removed 528244 rows and 592774 columns (presolve time = 5s) ...\n",
      "Presolve removed 552315 rows and 616845 columns (presolve time = 10s) ...\n",
      "Presolve removed 623191 rows and 687721 columns (presolve time = 15s) ...\n",
      "Presolve removed 694067 rows and 758597 columns (presolve time = 20s) ...\n",
      "Presolve removed 783945 rows and 773854 columns (presolve time = 121s) ...\n",
      "Presolve added 45856 rows and 31860 columns\n",
      "Presolve time: 121.69s\n",
      "Presolved: 355783 rows, 654723 columns, 4031749 nonzeros\n",
      "Presolved model has 296543 SOS constraint(s)\n",
      "Variable types: 358180 continuous, 296543 integer (296543 binary)\n",
      "\n",
      "Root relaxation: numerical trouble, 0 iterations, 0.58 seconds (1.97 work units)\n",
      "\n",
      "    Nodes    |    Current Node    |     Objective Bounds      |     Work\n",
      " Expl Unexpl |  Obj  Depth IntInf | Incumbent    BestBd   Gap | It/Node Time\n",
      "\n",
      "     0     2  postponed    0               -          -      -     -  371s\n",
      "     1     4  postponed    1               -          -      - 321844  669s\n",
      "     3     8  postponed    2               -          -      - 212523 1140s\n"
     ]
    }
   ],
   "source": [
    "\n",
    "\n",
    "m.setObjective(a.sum(), gp.GRB.MAXIMIZE) # Zielfunktion\n",
    "\"\"\"\n",
    "gppd.add_constrs(m, ((av - 50*w)/100), gp.GRB.GREATER_EQUAL, a) # Gleichung 2\n",
    "\"\"\"\n",
    "gppd.add_constrs(m, w + a, gp.GRB.GREATER_EQUAL, 0) # Gleichung 3\n",
    "gppd.add_constrs(m, w + a, gp.GRB.LESS_EQUAL, s) # Gleichung 4\n",
    "m.update()\n",
    "\n",
    "pred_constr = add_predictor_constr(m, sc_model, feats, s) # Einfügen des Regressiosmodells\n",
    "pred_constr.print_stats()\n",
    "m.Params.NonConvex = 2\n",
    "m.optimize()\n"
   ]
  },
  {
   "cell_type": "code",
   "execution_count": null,
   "metadata": {},
   "outputs": [],
   "source": [
    "\n",
    "\n",
    "outputs = pred_constr.input_values\n",
    "pred_constr.input_values\n",
    "\n"
   ]
  },
  {
   "cell_type": "code",
   "execution_count": null,
   "metadata": {},
   "outputs": [],
   "source": [
    "\n",
    "solution = pd.DataFrame()\n",
    "\n",
    "solution[\"ratio\"] = r.gppd.X\n",
    "solution[\"supply\"] = s.gppd.X\n",
    "solution[\"army\"] = a.gppd.X\n",
    "solution[\"worker\"] = w\n",
    "solution\n"
   ]
  },
  {
   "cell_type": "code",
   "execution_count": null,
   "metadata": {},
   "outputs": [],
   "source": [
    "\n",
    "custom_palette = [\"#dd8452\",\"#4c72b0\",  \"#55a868\"]\n",
    "sns.set_theme(style=\"ticks\")\n",
    "# Show the joint distribution using kernel density estimation\n",
    "g = sns.jointplot(\n",
    "    data=solution, palette=custom_palette,\n",
    "    x=\"ratio\", y=\"supply\",  # ylim=[None, 150],\n",
    "    kind=\"kde\", height=10\n",
    ")"
   ]
  }
 ],
 "metadata": {
  "kernelspec": {
   "display_name": "Python 3",
   "language": "python",
   "name": "python3"
  },
  "language_info": {
   "codemirror_mode": {
    "name": "ipython",
    "version": 3
   },
   "file_extension": ".py",
   "mimetype": "text/x-python",
   "name": "python",
   "nbconvert_exporter": "python",
   "pygments_lexer": "ipython3",
   "version": "3.10.0"
  },
  "orig_nbformat": 4
 },
 "nbformat": 4,
 "nbformat_minor": 2
}
