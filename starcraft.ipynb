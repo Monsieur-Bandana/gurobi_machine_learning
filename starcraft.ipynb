{
 "cells": [
  {
   "cell_type": "code",
   "execution_count": null,
   "metadata": {},
   "outputs": [],
   "source": [
    "import pandas as pd\n",
    "import warnings\n",
    "\n",
    "import matplotlib.pyplot as plt\n",
    "\n",
    "import seaborn as sns\n",
    "\n",
    "import numpy as np\n",
    "\n",
    "wines = pd.read_csv(\"csv_dateien/sc2allShort.csv\")\n",
    "# wines2 = pd.read_csv(\"csv_dateien/sc2zerg.csv\")\n",
    "# fig, axes = plt.subplots(nrows=1, ncols=1, figsize=(15, 5))\n",
    "\n",
    "# sns.heatmap(wines[[\"Hits\",\"HmRun\",\"Runs\",\"Walks\",\"PutOuts\",\"Assists\",\"Errors\",\"Salary\",\"general_performance\"]].corr(), annot=True, center=0)\n",
    "heighti = 8\n",
    "\n",
    "# wines[[\"fixed acidity\",\"volatile acidity\",\"citric acid\",\"residual sugar\",\"chlorides\",\"free sulfur dioxide\",\"total sulfur dioxide\",\"density\",\"pH\",\"sulphates\",\"alcohol\",\"quality\"]]\n",
    "\n",
    "\n",
    "g3= sns.lmplot(x=\"total_workers\", y=\"total_army\", hue=\"fraction\", data=wines[[\"total_workers\", \"total_army\", \"fraction\"]],\n",
    "          height=heighti)\n",
    "\n",
    "df = pd.read_csv('csv_dateien/sc2allShort.csv')\n",
    "\n",
    "dfProtoss = df[df[\"fraction\"] == \"P\"]\n",
    "dfZerg = df[df[\"fraction\"] == \"Z\"]\n",
    "dfTerran = df[df[\"fraction\"] == \"T\"]\n",
    "\n",
    "corrProtoss = dfProtoss[\"total_workers\"].corr(dfProtoss[\"total_army\"])\n",
    "corrZerg = dfZerg[\"total_workers\"].corr(dfZerg[\"total_army\"])\n",
    "corrTerran = dfTerran[\"total_workers\"].corr(dfTerran[\"total_army\"])\n",
    "\n",
    "print(\"corrProtoss: {}\\ncorrZerg: {}\\ncorrTerran: {}\".format(corrProtoss,corrZerg,corrTerran))\n",
    "\n",
    "g3= sns.lmplot(x=\"total_workers\", y=\"total_army\", hue=\"winner\", data=dfTerran[[\"total_workers\", \"total_army\", \"winner\"]],\n",
    "          height=heighti)\n"
   ]
  }
 ],
 "metadata": {
  "language_info": {
   "name": "python"
  },
  "orig_nbformat": 4
 },
 "nbformat": 4,
 "nbformat_minor": 2
}
