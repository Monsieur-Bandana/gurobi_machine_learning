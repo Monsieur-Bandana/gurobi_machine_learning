{
 "cells": [
  {
   "cell_type": "code",
   "execution_count": 11,
   "metadata": {},
   "outputs": [
    {
     "data": {
      "text/plain": [
       "id\n",
       "0       88.0\n",
       "1       87.0\n",
       "2       90.0\n",
       "3       98.0\n",
       "4      100.0\n",
       "       ...  \n",
       "972     98.0\n",
       "973     98.0\n",
       "974     84.0\n",
       "975     89.0\n",
       "976     97.0\n",
       "Name: guest_satisfaction_overall, Length: 977, dtype: float64"
      ]
     },
     "execution_count": 11,
     "metadata": {},
     "output_type": "execute_result"
    },
    {
     "data": {
      "image/png": "[encoded data removed]",
      "text/plain": [
       "<Figure size 640x480 with 1 Axes>"
      ]
     },
     "metadata": {},
     "output_type": "display_data"
    }
   ],
   "source": [
    "import numpy as np\n",
    "import pandas as pd\n",
    "from matplotlib import pyplot as plt\n",
    "from sklearn.linear_model import LogisticRegression, LinearRegression\n",
    "from sklearn.tree import DecisionTreeRegressor\n",
    "from sklearn.pipeline import make_pipeline\n",
    "from sklearn.preprocessing import StandardScaler\n",
    "from sklearn.ensemble import RandomForestRegressor\n",
    "from sklearn.model_selection import train_test_split\n",
    "\n",
    "import sys\n",
    "import gurobipy as gp\n",
    "\n",
    "from gurobi_ml import add_predictor_constr\n",
    "\n",
    "import gurobipy_pandas as gppd\n",
    "\n",
    "# Base URL for retrieving data\n",
    "# TODO combine weekdays and weekends, add another column true false, if weekend\n",
    "historical_data = pd.read_csv(\n",
    "    \"csv_dateien/amsterdam_weekends.csv\", index_col=0\n",
    ")\n",
    "# \"id\",\"realSum\",\"room_type\",\"room_shared\",\"room_private\",\"person_capacity\",\"host_is_superhost\",\"multi\",\"biz\",\"cleanliness_rating\",\"guest_satisfaction_overall\",\"bedrooms\",\"dist\",\"metro_dist\",\"attr_index\",\"attr_index_norm\",\"rest_index\",\"rest_index_norm\",\"lng\",\"lat\"\n",
    "\n",
    "features = \"realSum\"\n",
    "target = \"guest_satisfaction_overall\"\n",
    "\n",
    "# classify our features between the ones that are fixed and the ones that will be\n",
    "# part of the optimization problem\n",
    "\n",
    "\n",
    "x = historical_data[features]\n",
    "y = historical_data[target]\n",
    "\n",
    "y\n",
    "\n",
    "\n",
    "\n",
    "x_train, x_test, y_train, y_test = train_test_split(x,y, test_size=0.4, random_state=23)\n",
    "\n",
    "x_train = np.array(x_train).reshape(-1,1)\n",
    "x_test = np.array(x_test).reshape(-1,1)\n",
    "\n",
    "lr = LinearRegression()\n",
    "\n",
    "lr.fit(x_train, y_train)\n",
    "\n",
    "c = lr.intercept_\n",
    "c\n",
    "\n",
    "m = lr.coef_\n",
    "m\n",
    "\n",
    "y_pred_train = m*x_train + c\n",
    "y_pred_train1 = lr.predict(x_train)\n",
    "\n",
    "\"\"\"\n",
    "plt.scatter(x_train, y_train)\n",
    "plt.scatter(x_train, y_pred_train1, color= \"red\")\n",
    "plt.xlabel(\"realSum\")\n",
    "plt.ylabel(\"guest_satisfaction_overall\")\n",
    "\n",
    "\"\"\"\n",
    "\n",
    "y_pred_test1 = lr.predict(x_test)\n",
    "\n",
    "plt.scatter(x_test, y_test)\n",
    "plt.scatter(x_test, y_pred_test1, color= \"red\")\n",
    "plt.xlabel(\"realSum\")\n",
    "plt.ylabel(\"guest_satisfaction_overall\")\n",
    "\n",
    "y"
   ]
  },
  {
   "cell_type": "code",
   "execution_count": 3,
   "metadata": {},
   "outputs": [
    {
     "data": {
      "text/plain": [
       "['id',\n",
       " 'realSum',\n",
       " 'room_type',\n",
       " 'room_shared',\n",
       " 'room_private',\n",
       " 'person_capacity',\n",
       " 'host_is_superhost',\n",
       " 'multi',\n",
       " 'biz',\n",
       " 'cleanliness_rating',\n",
       " 'bedrooms',\n",
       " 'dist',\n",
       " 'metro_dist',\n",
       " 'attr_index',\n",
       " 'attr_index_norm',\n",
       " 'rest_index',\n",
       " 'rest_index_norm',\n",
       " 'lng',\n",
       " 'lat']"
      ]
     },
     "execution_count": 3,
     "metadata": {},
     "output_type": "execute_result"
    }
   ],
   "source": [
    "import tensorflow as tf\n",
    "import tensorflow.contrib.eager as tfe\n",
    "from tensorflow import keras\n",
    "# import pandas as pd\n",
    "\n",
    "# load file\n",
    "train_dataset_url = \"csv_dateien/amsterdam_weekends.csv\"\n",
    "\n",
    "column_names = [\"id\",\"realSum\",\"room_type\",\"room_shared\",\"room_private\",\"person_capacity\",\"host_is_superhost\",\"multi\",\"biz\",\"cleanliness_rating\",\"guest_satisfaction_overall\",\"bedrooms\",\"dist\",\"metro_dist\",\"attr_index\",\"attr_index_norm\",\"rest_index\",\"rest_index_norm\",\"lng\",\"lat\"]\n",
    "feature_names = column_names[:10]+ column_names[11:]\n",
    "label_name = \"guest_satisfaction_overall\"\n",
    "\n",
    "batch_size = 5\n",
    "\n",
    "train_dataset = tf.contrib.data.make_csv_dataset(\n",
    "\n",
    ")\n",
    "\n",
    "# (x_train, y_train), (x_test, y_test) = data\n",
    "\n"
   ]
  }
 ],
 "metadata": {
  "kernelspec": {
   "display_name": "Python 3",
   "language": "python",
   "name": "python3"
  },
  "language_info": {
   "codemirror_mode": {
    "name": "ipython",
    "version": 3
   },
   "file_extension": ".py",
   "mimetype": "text/x-python",
   "name": "python",
   "nbconvert_exporter": "python",
   "pygments_lexer": "ipython3",
   "version": "3.10.0"
  },
  "orig_nbformat": 4
 },
 "nbformat": 4,
 "nbformat_minor": 2
}
